{
 "cells": [
  {
   "cell_type": "code",
   "execution_count": 1,
   "id": "f9d416a7",
   "metadata": {},
   "outputs": [
    {
     "name": "stdout",
     "output_type": "stream",
     "text": [
      "✅ Crawled: https://www.cdc.gov/diabetes/\n",
      "✅ Crawled: https://www.cdc.gov/diabetes/#content\n",
      "✅ Crawled: https://www.cdc.gov/diabetes/#cdc-search\n",
      "✅ Crawled: https://www.cdc.gov/diabetes/#gov-notice\n",
      "✅ Crawled: https://www.cdc.gov/diabetes/prevention-type-2/building-a-healthy-habit.html\n",
      "✅ Crawled: https://www.cdc.gov/diabetes/prevention-type-2/building-a-healthy-habit.html#content\n",
      "✅ Crawled: https://www.cdc.gov/diabetes/prevention-type-2/building-a-healthy-habit.html#cdc-search\n",
      "✅ Crawled: https://www.cdc.gov/diabetes/prevention-type-2/building-a-healthy-habit.html#gov-notice\n",
      "✅ Crawled: https://www.cdc.gov/diabetes/education-support-programs/index.html\n",
      "✅ Crawled: https://www.cdc.gov/diabetes/education-support-programs/index.html#content\n",
      "✅ Crawled: https://www.cdc.gov/diabetes/education-support-programs/index.html#cdc-search\n",
      "✅ Crawled: https://www.cdc.gov/diabetes/education-support-programs/index.html#gov-notice\n",
      "✅ Crawled: https://www.cdc.gov/diabetes/diabetes-tv/diabetes-kickstart.html\n",
      "✅ Crawled: https://www.cdc.gov/diabetes/diabetes-tv/diabetes-kickstart.html#content\n",
      "✅ Crawled: https://www.cdc.gov/diabetes/diabetes-tv/diabetes-kickstart.html#cdc-search\n",
      "✅ Crawled: https://www.cdc.gov/diabetes/diabetes-tv/diabetes-kickstart.html#gov-notice\n",
      "✅ Crawled: https://www.cdc.gov/diabetes/es/diabetes-tv/serie-en-video-diabetes-kickstart-un-buen-comienzo.html\n",
      "✅ Crawled: https://www.cdc.gov/diabetes/es/diabetes-tv/serie-en-video-diabetes-kickstart-un-buen-comienzo.html#content\n",
      "✅ Crawled: https://www.cdc.gov/diabetes/es/diabetes-tv/serie-en-video-diabetes-kickstart-un-buen-comienzo.html#cdc-search\n",
      "✅ Crawled: https://www.cdc.gov/diabetes/es/diabetes-tv/serie-en-video-diabetes-kickstart-un-buen-comienzo.html#gov-notice\n",
      "All content saved to: cdc_diabetes_guidelines.txt\n"
     ]
    }
   ],
   "source": [
    "import requests\n",
    "from bs4 import BeautifulSoup\n",
    "from urllib.parse import urljoin, urlparse\n",
    "import time\n",
    "\n",
    "# CDC Diabetes root URL\n",
    "BASE_URL = \"https://www.cdc.gov/diabetes/\"\n",
    "VISITED = set()\n",
    "CRAWLED_TEXT = []\n",
    "\n",
    "def clean_text(soup):\n",
    "    # Remove navigation, footer, scripts, etc.\n",
    "    for tag in soup([\"script\", \"style\", \"nav\", \"footer\", \"header\", \"noscript\"]):\n",
    "        tag.decompose()\n",
    "\n",
    "    # Extract visible text only\n",
    "    text = soup.get_text(separator=\"\\n\")\n",
    "    lines = [line.strip() for line in text.splitlines()]\n",
    "    return \"\\n\".join([line for line in lines if line])\n",
    "\n",
    "def crawl(url, max_pages=20):\n",
    "    global VISITED\n",
    "    if url in VISITED or len(VISITED) >= max_pages:\n",
    "        return\n",
    "\n",
    "    try:\n",
    "        response = requests.get(url)\n",
    "        soup = BeautifulSoup(response.content, \"html.parser\")\n",
    "        VISITED.add(url)\n",
    "\n",
    "        print(f\"✅ Crawled: {url}\")\n",
    "        page_text = clean_text(soup)\n",
    "        CRAWLED_TEXT.append(f\"\\n==== SOURCE: {url} ====\\n{page_text}\\n\")\n",
    "\n",
    "        # Crawl internal CDC diabetes links\n",
    "        for link_tag in soup.find_all(\"a\", href=True):\n",
    "            href = link_tag[\"href\"]\n",
    "            full_url = urljoin(url, href)\n",
    "            if full_url.startswith(BASE_URL):\n",
    "                crawl(full_url)\n",
    "\n",
    "        time.sleep(1)\n",
    "\n",
    "    except Exception as e:\n",
    "        print(f\"⚠️ Error crawling {url}: {e}\")\n",
    "\n",
    "# Start crawling from base\n",
    "crawl(BASE_URL)\n",
    "\n",
    "# Save to file\n",
    "with open(\"cdc_diabetes_guidelines.txt\", \"w\", encoding=\"utf-8\") as f:\n",
    "    f.write(\"\\n\\n\".join(CRAWLED_TEXT))\n",
    "    \n",
    "print(\"All content saved to: cdc_diabetes_guidelines.txt\")\n"
   ]
  },
  {
   "cell_type": "code",
   "execution_count": null,
   "id": "6445e3bd",
   "metadata": {},
   "outputs": [],
   "source": []
  }
 ],
 "metadata": {
  "kernelspec": {
   "display_name": "base",
   "language": "python",
   "name": "python3"
  },
  "language_info": {
   "codemirror_mode": {
    "name": "ipython",
    "version": 3
   },
   "file_extension": ".py",
   "mimetype": "text/x-python",
   "name": "python",
   "nbconvert_exporter": "python",
   "pygments_lexer": "ipython3",
   "version": "3.9.20"
  }
 },
 "nbformat": 4,
 "nbformat_minor": 5
}
