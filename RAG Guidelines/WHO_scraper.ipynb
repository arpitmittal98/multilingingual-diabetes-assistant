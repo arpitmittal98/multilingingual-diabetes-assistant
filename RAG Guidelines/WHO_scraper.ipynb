{
 "cells": [
  {
   "cell_type": "code",
   "execution_count": 4,
   "id": "d70984c4",
   "metadata": {},
   "outputs": [
    {
     "name": "stdout",
     "output_type": "stream",
     "text": [
      "Crawled: https://www.who.int/health-topics/diabetes\n",
      "Crawled: https://www.who.int/health-topics/diabetes#content\n",
      "Crawled: https://www.who.int/news-room/fact-sheets/detail/diabetes\n",
      "Crawled: https://www.who.int/news-room/fact-sheets/detail/diabetes#content\n",
      "Crawled: https://www.who.int/news-room/facts-in-pictures/detail/diabetes\n",
      "Crawled: https://www.who.int/news-room/facts-in-pictures/detail/diabetes#content\n",
      "WHO diabetes content saved to: who_diabetes_guidelines.txt\n"
     ]
    }
   ],
   "source": [
    "import requests\n",
    "from bs4 import BeautifulSoup\n",
    "from urllib.parse import urljoin, urlparse\n",
    "import time\n",
    "\n",
    "BASE_URL = \"https://www.who.int/health-topics/diabetes\"\n",
    "VISITED = set()\n",
    "CRAWLED_TEXT = []\n",
    "\n",
    "def clean_text(soup):\n",
    "    for tag in soup([\"script\", \"style\", \"nav\", \"footer\", \"header\", \"noscript\"]):\n",
    "        tag.decompose()\n",
    "    text = soup.get_text(separator=\"\\n\")\n",
    "    lines = [line.strip() for line in text.splitlines()]\n",
    "    return \"\\n\".join([line for line in lines if line])\n",
    "\n",
    "def crawl(url, max_pages=20):\n",
    "    global VISITED\n",
    "    if url in VISITED or len(VISITED) >= max_pages:\n",
    "        return\n",
    "\n",
    "    try:\n",
    "        response = requests.get(url)\n",
    "        soup = BeautifulSoup(response.content, \"html.parser\")\n",
    "        VISITED.add(url)\n",
    "\n",
    "        print(f\"Crawled: {url}\")\n",
    "        page_text = clean_text(soup)\n",
    "        CRAWLED_TEXT.append(f\"\\n==== SOURCE: {url} ====\\n{page_text}\\n\")\n",
    "\n",
    "        # Find all internal WHO links related to diabetes\n",
    "        for link_tag in soup.find_all(\"a\", href=True):\n",
    "            href = link_tag[\"href\"]\n",
    "            full_url = urljoin(url, href)\n",
    "            parsed = urlparse(full_url)\n",
    "            if \"who.int\" in parsed.netloc and \"/diabetes\" in parsed.path:\n",
    "                crawl(full_url)\n",
    "\n",
    "        time.sleep(1)\n",
    "\n",
    "    except Exception as e:\n",
    "        print(f\"Error crawling {url}: {e}\")\n",
    "\n",
    "# Start crawling WHO\n",
    "crawl(BASE_URL)\n",
    "\n",
    "# Save to text file\n",
    "with open(\"who_diabetes_guidelines.txt\", \"w\", encoding=\"utf-8\") as f:\n",
    "    f.write(\"\\n\\n\".join(CRAWLED_TEXT))\n",
    "\n",
    "print(\"WHO diabetes content saved to: who_diabetes_guidelines.txt\")\n"
   ]
  },
  {
   "cell_type": "code",
   "execution_count": null,
   "id": "eae53d9c",
   "metadata": {},
   "outputs": [],
   "source": []
  }
 ],
 "metadata": {
  "kernelspec": {
   "display_name": "base",
   "language": "python",
   "name": "python3"
  },
  "language_info": {
   "codemirror_mode": {
    "name": "ipython",
    "version": 3
   },
   "file_extension": ".py",
   "mimetype": "text/x-python",
   "name": "python",
   "nbconvert_exporter": "python",
   "pygments_lexer": "ipython3",
   "version": "3.9.20"
  }
 },
 "nbformat": 4,
 "nbformat_minor": 5
}
