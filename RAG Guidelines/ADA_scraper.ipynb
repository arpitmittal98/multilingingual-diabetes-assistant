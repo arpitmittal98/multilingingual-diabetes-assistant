{
 "cells": [
  {
   "cell_type": "code",
   "execution_count": 1,
   "id": "5da08c76",
   "metadata": {},
   "outputs": [
    {
     "name": "stdout",
     "output_type": "stream",
     "text": [
      "Collecting pymupdf\n",
      "  Downloading pymupdf-1.25.5-cp39-abi3-win_amd64.whl.metadata (3.4 kB)\n",
      "Downloading pymupdf-1.25.5-cp39-abi3-win_amd64.whl (16.6 MB)\n",
      "   ---------------------------------------- 0.0/16.6 MB ? eta -:--:--\n",
      "   -------- ------------------------------- 3.7/16.6 MB 31.3 MB/s eta 0:00:01\n",
      "   ---------------------------------------  16.5/16.6 MB 54.7 MB/s eta 0:00:01\n",
      "   ---------------------------------------- 16.6/16.6 MB 43.5 MB/s eta 0:00:00\n",
      "Installing collected packages: pymupdf\n",
      "Successfully installed pymupdf-1.25.5\n"
     ]
    }
   ],
   "source": [
    "!pip install pymupdf"
   ]
  },
  {
   "cell_type": "code",
   "execution_count": 7,
   "id": "3eb0bca6",
   "metadata": {},
   "outputs": [
    {
     "name": "stdout",
     "output_type": "stream",
     "text": [
      "✅ Saved extracted text to ada_diabetes_guidelines.txt\n"
     ]
    }
   ],
   "source": [
    "import fitz  # PyMuPDF\n",
    "\n",
    "pdf_path = \"ADA_Guidelines/standards-of-care-2024.pdf\"\n",
    "output_txt = \"ada_diabetes_guidelines.txt\"\n",
    "\n",
    "doc = fitz.open(pdf_path)\n",
    "full_text = \"\"\n",
    "\n",
    "for page in doc:\n",
    "    full_text += page.get_text() + \"\\n\"\n",
    "\n",
    "doc.close()\n",
    "\n",
    "with open(output_txt, \"w\", encoding=\"utf-8\") as f:\n",
    "    f.write(full_text)\n",
    "\n",
    "print(f\"✅ Saved extracted text to {output_txt}\")\n"
   ]
  },
  {
   "cell_type": "code",
   "execution_count": null,
   "id": "82ee992b",
   "metadata": {},
   "outputs": [],
   "source": []
  }
 ],
 "metadata": {
  "kernelspec": {
   "display_name": "base",
   "language": "python",
   "name": "python3"
  },
  "language_info": {
   "codemirror_mode": {
    "name": "ipython",
    "version": 3
   },
   "file_extension": ".py",
   "mimetype": "text/x-python",
   "name": "python",
   "nbconvert_exporter": "python",
   "pygments_lexer": "ipython3",
   "version": "3.9.20"
  }
 },
 "nbformat": 4,
 "nbformat_minor": 5
}
