{
  "cells": [
    {
      "cell_type": "code",
      "execution_count": 3,
      "metadata": {
        "id": "dL09FlU6V60u"
      },
      "outputs": [
        {
          "ename": "ImportError",
          "evalue": "cannot import name 'Literal' from 'typing' (c:\\Users\\mitta\\anaconda3\\envs\\nlp_course\\lib\\typing.py)",
          "output_type": "error",
          "traceback": [
            "\u001b[1;31m---------------------------------------------------------------------------\u001b[0m",
            "\u001b[1;31mImportError\u001b[0m                               Traceback (most recent call last)",
            "\u001b[1;32m~\\AppData\\Local\\Temp\\ipykernel_36004\\2907323024.py\u001b[0m in \u001b[0;36m<module>\u001b[1;34m\u001b[0m\n\u001b[0;32m      4\u001b[0m \u001b[1;32mimport\u001b[0m \u001b[0mfaiss\u001b[0m\u001b[1;33m\u001b[0m\u001b[1;33m\u001b[0m\u001b[0m\n\u001b[0;32m      5\u001b[0m \u001b[1;32mimport\u001b[0m \u001b[0mnumpy\u001b[0m \u001b[1;32mas\u001b[0m \u001b[0mnp\u001b[0m\u001b[1;33m\u001b[0m\u001b[1;33m\u001b[0m\u001b[0m\n\u001b[1;32m----> 6\u001b[1;33m \u001b[1;32mfrom\u001b[0m \u001b[0msentence_transformers\u001b[0m \u001b[1;32mimport\u001b[0m \u001b[0mSentenceTransformer\u001b[0m\u001b[1;33m\u001b[0m\u001b[1;33m\u001b[0m\u001b[0m\n\u001b[0m\u001b[0;32m      7\u001b[0m \u001b[1;33m\u001b[0m\u001b[0m\n\u001b[0;32m      8\u001b[0m \u001b[1;31m# Files to include\u001b[0m\u001b[1;33m\u001b[0m\u001b[1;33m\u001b[0m\u001b[1;33m\u001b[0m\u001b[0m\n",
            "\u001b[1;32mc:\\Users\\mitta\\anaconda3\\envs\\nlp_course\\lib\\site-packages\\sentence_transformers\\__init__.py\u001b[0m in \u001b[0;36m<module>\u001b[1;34m\u001b[0m\n\u001b[0;32m      5\u001b[0m \u001b[1;32mimport\u001b[0m \u001b[0mos\u001b[0m\u001b[1;33m\u001b[0m\u001b[1;33m\u001b[0m\u001b[0m\n\u001b[0;32m      6\u001b[0m \u001b[1;33m\u001b[0m\u001b[0m\n\u001b[1;32m----> 7\u001b[1;33m \u001b[1;32mfrom\u001b[0m \u001b[0msentence_transformers\u001b[0m\u001b[1;33m.\u001b[0m\u001b[0mcross_encoder\u001b[0m\u001b[1;33m.\u001b[0m\u001b[0mCrossEncoder\u001b[0m \u001b[1;32mimport\u001b[0m \u001b[0mCrossEncoder\u001b[0m\u001b[1;33m\u001b[0m\u001b[1;33m\u001b[0m\u001b[0m\n\u001b[0m\u001b[0;32m      8\u001b[0m \u001b[1;32mfrom\u001b[0m \u001b[0msentence_transformers\u001b[0m\u001b[1;33m.\u001b[0m\u001b[0mdatasets\u001b[0m \u001b[1;32mimport\u001b[0m \u001b[0mParallelSentencesDataset\u001b[0m\u001b[1;33m,\u001b[0m \u001b[0mSentencesDataset\u001b[0m\u001b[1;33m\u001b[0m\u001b[1;33m\u001b[0m\u001b[0m\n\u001b[0;32m      9\u001b[0m \u001b[1;32mfrom\u001b[0m \u001b[0msentence_transformers\u001b[0m\u001b[1;33m.\u001b[0m\u001b[0mLoggingHandler\u001b[0m \u001b[1;32mimport\u001b[0m \u001b[0mLoggingHandler\u001b[0m\u001b[1;33m\u001b[0m\u001b[1;33m\u001b[0m\u001b[0m\n",
            "\u001b[1;32mc:\\Users\\mitta\\anaconda3\\envs\\nlp_course\\lib\\site-packages\\sentence_transformers\\cross_encoder\\__init__.py\u001b[0m in \u001b[0;36m<module>\u001b[1;34m\u001b[0m\n\u001b[1;32m----> 1\u001b[1;33m \u001b[1;32mfrom\u001b[0m \u001b[1;33m.\u001b[0m\u001b[0mCrossEncoder\u001b[0m \u001b[1;32mimport\u001b[0m \u001b[0mCrossEncoder\u001b[0m\u001b[1;33m\u001b[0m\u001b[1;33m\u001b[0m\u001b[0m\n\u001b[0m\u001b[0;32m      2\u001b[0m \u001b[1;33m\u001b[0m\u001b[0m\n\u001b[0;32m      3\u001b[0m \u001b[0m__all__\u001b[0m \u001b[1;33m=\u001b[0m \u001b[1;33m[\u001b[0m\u001b[1;34m\"CrossEncoder\"\u001b[0m\u001b[1;33m]\u001b[0m\u001b[1;33m\u001b[0m\u001b[1;33m\u001b[0m\u001b[0m\n",
            "\u001b[1;32mc:\\Users\\mitta\\anaconda3\\envs\\nlp_course\\lib\\site-packages\\sentence_transformers\\cross_encoder\\CrossEncoder.py\u001b[0m in \u001b[0;36m<module>\u001b[1;34m\u001b[0m\n\u001b[0;32m      2\u001b[0m \u001b[1;32mimport\u001b[0m \u001b[0mos\u001b[0m\u001b[1;33m\u001b[0m\u001b[1;33m\u001b[0m\u001b[0m\n\u001b[0;32m      3\u001b[0m \u001b[1;32mfrom\u001b[0m \u001b[0mfunctools\u001b[0m \u001b[1;32mimport\u001b[0m \u001b[0mwraps\u001b[0m\u001b[1;33m\u001b[0m\u001b[1;33m\u001b[0m\u001b[0m\n\u001b[1;32m----> 4\u001b[1;33m \u001b[1;32mfrom\u001b[0m \u001b[0mtyping\u001b[0m \u001b[1;32mimport\u001b[0m \u001b[0mCallable\u001b[0m\u001b[1;33m,\u001b[0m \u001b[0mDict\u001b[0m\u001b[1;33m,\u001b[0m \u001b[0mList\u001b[0m\u001b[1;33m,\u001b[0m \u001b[0mLiteral\u001b[0m\u001b[1;33m,\u001b[0m \u001b[0mOptional\u001b[0m\u001b[1;33m,\u001b[0m \u001b[0mTuple\u001b[0m\u001b[1;33m,\u001b[0m \u001b[0mType\u001b[0m\u001b[1;33m,\u001b[0m \u001b[0mUnion\u001b[0m\u001b[1;33m\u001b[0m\u001b[1;33m\u001b[0m\u001b[0m\n\u001b[0m\u001b[0;32m      5\u001b[0m \u001b[1;33m\u001b[0m\u001b[0m\n\u001b[0;32m      6\u001b[0m \u001b[1;32mimport\u001b[0m \u001b[0mnumpy\u001b[0m \u001b[1;32mas\u001b[0m \u001b[0mnp\u001b[0m\u001b[1;33m\u001b[0m\u001b[1;33m\u001b[0m\u001b[0m\n",
            "\u001b[1;31mImportError\u001b[0m: cannot import name 'Literal' from 'typing' (c:\\Users\\mitta\\anaconda3\\envs\\nlp_course\\lib\\typing.py)"
          ]
        }
      ],
      "source": [
        "import os\n",
        "import json\n",
        "import re\n",
        "import faiss\n",
        "import numpy as np\n",
        "from sentence_transformers import SentenceTransformer\n",
        "\n",
        "# Files to include\n",
        "files = {\n",
        "    \"english_ada\": \"ada_diabetes_guidelines.txt\",\n",
        "    \"english_cdc\": \"cdc_diabetes_guidelines.txt\",\n",
        "    \"english_who\": \"who_diabetes_guidelines.txt\",\n",
        "    \"spanish_ndep\": \"Spanish Data\\spanish_guidelines_ndep.txt\",\n",
        "    \"spanish_who\": \"Spanish Data\\spanish_guidelines_who\",\n",
        "    \"spanish_cdc\": \"Spanish Data\\spanish_guidelines_cdc.txt\"\n",
        "}\n",
        "\n",
        "# Chunking function\n",
        "def chunk_text(text, max_words=150, overlap=30):\n",
        "    paragraphs = re.split(r'\\n{2,}', text)\n",
        "    chunks = []\n",
        "    current_chunk = []\n",
        "\n",
        "    for para in paragraphs:\n",
        "        words = para.split()\n",
        "        if not words:\n",
        "            continue\n",
        "\n",
        "        while words:\n",
        "            space_left = max_words - len(current_chunk)\n",
        "            chunk_part = words[:space_left]\n",
        "            current_chunk.extend(chunk_part)\n",
        "            words = words[space_left:]\n",
        "\n",
        "            if len(current_chunk) >= max_words:\n",
        "                chunks.append(\" \".join(current_chunk))\n",
        "                current_chunk = current_chunk[-overlap:]\n",
        "\n",
        "    if current_chunk:\n",
        "        chunks.append(\" \".join(current_chunk))\n",
        "\n",
        "    return chunks\n",
        "\n",
        "# Prepare separate lists\n",
        "english_chunks, spanish_chunks = [], []\n",
        "english_texts, spanish_texts = [], []\n",
        "\n",
        "# Process each file\n",
        "for name, path in files.items():\n",
        "    if os.path.exists(path):\n",
        "        print(f\"Reading and chunking: {name}\")\n",
        "        with open(path, \"r\", encoding=\"utf-8\") as f:\n",
        "            text = f.read()\n",
        "        chunks = chunk_text(text)\n",
        "        lang = \"es\" if \"spanish\" in name else \"en\"\n",
        "        for chunk in chunks:\n",
        "            chunk_entry = {\"text\": chunk, \"lang\": lang, \"source\": name}\n",
        "            if lang == \"es\":\n",
        "                spanish_chunks.append(chunk_entry)\n",
        "                spanish_texts.append(chunk)\n",
        "            else:\n",
        "                english_chunks.append(chunk_entry)\n",
        "                english_texts.append(chunk)\n",
        "    else:\n",
        "        print(f\"File not found: {path}\")\n",
        "\n",
        "print(f\"English chunks: {len(english_chunks)}\")\n",
        "print(f\"Spanish chunks: {len(spanish_chunks)}\")\n",
        "\n",
        "# Load multilingual model\n",
        "print(\"Embedding with multilingual MiniLM...\")\n",
        "model = SentenceTransformer(\"sentence-transformers/paraphrase-multilingual-MiniLM-L12-v2\")\n",
        "\n",
        "# Encode and build FAISS index for English\n",
        "print(\"Embedding English...\")\n",
        "en_embeds = model.encode(english_texts, show_progress_bar=True, convert_to_numpy=True)\n",
        "en_index = faiss.IndexFlatL2(en_embeds.shape[1])\n",
        "en_index.add(np.array(en_embeds, dtype=\"float32\"))\n",
        "\n",
        "faiss.write_index(en_index, \"rag_en.index\")\n",
        "with open(\"rag_passages_en.json\", \"w\", encoding=\"utf-8\") as f:\n",
        "    json.dump(english_chunks, f, indent=2, ensure_ascii=False)\n",
        "print(\"English FAISS and passages saved.\")\n",
        "\n",
        "# Encode and build FAISS index for Spanish\n",
        "print(\"Embedding Spanish...\")\n",
        "es_embeds = model.encode(spanish_texts, show_progress_bar=True, convert_to_numpy=True)\n",
        "es_index = faiss.IndexFlatL2(es_embeds.shape[1])\n",
        "es_index.add(np.array(es_embeds, dtype=\"float32\"))\n",
        "\n",
        "faiss.write_index(es_index, \"rag_es.index\")\n",
        "with open(\"rag_passages_es.json\", \"w\", encoding=\"utf-8\") as f:\n",
        "    json.dump(spanish_chunks, f, indent=2, ensure_ascii=False)\n",
        "print(\"Spanish FAISS and passages saved.\")"
      ]
    },
    {
      "cell_type": "code",
      "execution_count": 2,
      "metadata": {},
      "outputs": [
        {
          "name": "stdout",
          "output_type": "stream",
          "text": [
            "Collecting faiss-cpu\n",
            "  Downloading https://files.pythonhosted.org/packages/25/3c/9d23f4edb99c8613bb24dadecb31f8abaeb01aaa26ff979d6c05416a5b5c/faiss_cpu-1.7.4-cp37-cp37m-win_amd64.whl (10.8MB)\n",
            "Installing collected packages: faiss-cpu\n",
            "Successfully installed faiss-cpu-1.7.4\n"
          ]
        }
      ],
      "source": [
        "!pip install faiss-cpu"
      ]
    },
    {
      "cell_type": "code",
      "execution_count": null,
      "metadata": {},
      "outputs": [],
      "source": []
    }
  ],
  "metadata": {
    "colab": {
      "provenance": []
    },
    "kernelspec": {
      "display_name": "nlp_course",
      "language": "python",
      "name": "python3"
    },
    "language_info": {
      "codemirror_mode": {
        "name": "ipython",
        "version": 3
      },
      "file_extension": ".py",
      "mimetype": "text/x-python",
      "name": "python",
      "nbconvert_exporter": "python",
      "pygments_lexer": "ipython3",
      "version": "3.7.16"
    }
  },
  "nbformat": 4,
  "nbformat_minor": 0
}
